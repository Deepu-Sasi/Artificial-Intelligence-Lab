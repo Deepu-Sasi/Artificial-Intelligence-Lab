{
 "cells": [
  {
   "cell_type": "code",
   "execution_count": 2,
   "id": "937efedb",
   "metadata": {},
   "outputs": [
    {
     "name": "stdout",
     "output_type": "stream",
     "text": [
      "Enter the age:5\n",
      "Entry permitted\n"
     ]
    }
   ],
   "source": [
    "import numpy as np\n",
    "from sklearn.linear_model import LogisticRegression\n",
    "X = np.array([1,2,3,4,5,6,7,8,9,10,11,12]).reshape(-1,1)\n",
    "y = np.array([0, 0, 0, 0, 0, 0, 1, 1, 1, 1, 1, 1])\n",
    "\n",
    "a=int(input(\"Enter the age:\"))\n",
    "model = LogisticRegression()\n",
    "model.fit(X, y)\n",
    "x = np.array([a]).reshape((-1, 1))\n",
    "pred = model.predict(x)\n",
    "if pred==0:\n",
    "    print(\"Entry permitted\")\n",
    "else:\n",
    "    print(\"Entry denied \")"
   ]
  },
  {
   "cell_type": "code",
   "execution_count": null,
   "id": "babed911",
   "metadata": {},
   "outputs": [],
   "source": []
  }
 ],
 "metadata": {
  "kernelspec": {
   "display_name": "Python 3 (ipykernel)",
   "language": "python",
   "name": "python3"
  },
  "language_info": {
   "codemirror_mode": {
    "name": "ipython",
    "version": 3
   },
   "file_extension": ".py",
   "mimetype": "text/x-python",
   "name": "python",
   "nbconvert_exporter": "python",
   "pygments_lexer": "ipython3",
   "version": "3.9.12"
  }
 },
 "nbformat": 4,
 "nbformat_minor": 5
}
